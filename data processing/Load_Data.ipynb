{
  "nbformat": 4,
  "nbformat_minor": 0,
  "metadata": {
    "colab": {
      "name": "Load_Data.ipynb",
      "provenance": [],
      "collapsed_sections": [],
      "authorship_tag": "ABX9TyNJfoUKou/awVdiraaI4Rki",
      "include_colab_link": true
    },
    "kernelspec": {
      "name": "python3",
      "display_name": "Python 3"
    },
    "language_info": {
      "name": "python"
    }
  },
  "cells": [
    {
      "cell_type": "markdown",
      "metadata": {
        "id": "view-in-github",
        "colab_type": "text"
      },
      "source": [
        "<a href=\"https://colab.research.google.com/github/dotsnangles/Transformers-Text-Summarisation/blob/main/Load_Data.ipynb\" target=\"_parent\"><img src=\"https://colab.research.google.com/assets/colab-badge.svg\" alt=\"Open In Colab\"/></a>"
      ]
    },
    {
      "cell_type": "code",
      "execution_count": 1,
      "metadata": {
        "id": "YEQhbjEk3o7Z"
      },
      "outputs": [],
      "source": [
        "import pandas as pd\n",
        "import json"
      ]
    },
    {
      "cell_type": "code",
      "source": [
        "!gdown -q 1Q4iAB-YWGAMaN9zlyTFEwvA7RJhVTPKD"
      ],
      "metadata": {
        "id": "4gAzlVOsqPnG"
      },
      "execution_count": 4,
      "outputs": []
    },
    {
      "cell_type": "code",
      "source": [
        "with open('/content/train.json') as f:\n",
        "    train = json.loads(f.read())"
      ],
      "metadata": {
        "id": "ZlhEVRvU3q_i"
      },
      "execution_count": 5,
      "outputs": []
    },
    {
      "cell_type": "code",
      "source": [
        "for e in train:\n",
        "    print(e)\n",
        "    break"
      ],
      "metadata": {
        "colab": {
          "base_uri": "https://localhost:8080/"
        },
        "id": "wSmLtN2t4LUx",
        "outputId": "18bcd7b9-a60a-4b8e-a653-bdc5d75bd2f6"
      },
      "execution_count": 6,
      "outputs": [
        {
          "output_type": "stream",
          "name": "stdout",
          "text": [
            "{'id': 1000, 'title': '제207회 완주군의회(임시회) 제 1 차 본회의회의록', 'region': '완주', 'num_agenda': 4, 'context': {'AGENDA_1': {'0': '의석을 정돈하여 주시기 바랍니다. 성원이 되었으므로 제207회 완주군의회 임시회 제1차 본회의 개의를 선포합니다. 먼저 의사팀장으로부터 의회 관련 사항에 대한 보고가 있겠습니다. 의사팀장은 보고하여 주시기 바랍니다.', '1': '의사팀장 이은미 입니다. 의회관련 사항을 보고 드리겠습니다. 먼저 제207회 완주군의회 임시회 소집경위를 보고 드리겠습니다. 지방자치법 제45조 제2항의 규정에 의거 서남용 의원님 외 4인의 의원님으로부터 임시회 집회 요구가 있어 지난 8월6일 집회 공고를 하고 오늘 집회를 갖게 되었습니다. 다음은 의안접수 및 회부사항입니다. 먼저 의원발의 안건입니다. 완주군의회 의원 의정활동비등 지급에 관한 조례 일부개정 조례안, 완주군 향토문화유산 보호 및 관리 조례안, 완주군 싸움소 육성 지원에 관한 조례안 등 총 3건으로, 해당 상임의원회로 회부 하였습니다. 다음은 완주군수로부터 제출된 안건입니다. 삼례문화예술촌 설치 및 운영조례 일부개정 조례안 등 총 40건으로 해당 상임의원회로 회부하였습니다. 자세한 내용은 배부해 드린 유인물을 참조하여 주시기 바랍니다. 이상 보고를 마치겠습니다.'}, 'AGENDA_2': {'0': '의사팀장 수고하셨습니다. 먼저 의사일정 제1항 제207회 완주군의회 임시회 회기 결정의 건을 상정합니다. 제207회 완주군의회 임시회 회기 결정의 건에 대하여는 서남용 의원님 외 4인의 의원님이 발의한대로 8월 26일부터 9월 4일까지 10일간의 회기를 결정하고자 합니다. 의원 여러분 이의 있으십니까?', '1': '(『없습니다』하는 의원 있음)', '2': '이의가 없으므로 가결되었음을 선포합니다.'}, 'AGENDA_3': {'0': '다음은 의사일정 제2항 제207회 완주군의회 임시회 회의록 서명의원 선출의 건을 상정합니다. 회의록 서명의원으로는 최등원 의원님과 박웅배 의원님을 선출하고자 하는데 의원여러분 이의 있습니까?', '1': '(『없습니다』하는 의원 있음)', '2': '이의가 없으므로 가결되었음을 선포합니다. 그럼 두 분 의원님께서는 본 회기동안 수고하여 주시기 바랍니다.'}, 'AGENDA_4': {'0': '다음은 의사일정 제3항 본회의 휴회의 건을 상정합니다. 상임의원회 의정활동을 위하여 8월 27일부터 9월 3일까지 8일간 본회를 휴회 하고자 합니다. 의원여러분 이의 있으십니까?', '1': '(『없습니다』하는 의원 있음)', '2': '이의가 없으므로 가결되었음을 선포합니다. 이상으로 제207회 완주군의회 임시회 제1차 본회의를 마치겠습니다. 다음 제2차 본회의는 9월 4일 오전 10시에 개의하겠습니다. 의원여러분 수고 많으셨습니다. 산회를 선포합니다.'}}, 'label': {'AGENDA_1': {'evidence': {'0': ['의석을 정돈하여 주시기 바랍니다.', '성원이 되었으므로 제207회 완주군의회 임시회 제1차 본회의 개의를 선포합니다.']}, 'summary': '제207회 완주군의회 임시회 제1차 본회의 개의 선포.'}, 'AGENDA_2': {'evidence': {'0': ['먼저 의사일정 제1항 제207회 완주군의회 임시회 회기 결정의 건을 상정합니다.', '제207회 완주군의회 임시회 회기 결정의 건에 대하여는 서남용 의원님 외 4인의 의원님이 발의한대로 8월 26일부터 9월 4일까지 10일간의 회기를 결정하고자 합니다.', '의원 여러분 이의 있으십니까?'], '2': ['이의가 없으므로 가결되었음을 선포합니다.']}, 'summary': '제207회 완주군의회 임시회 회기는 8월 26일부터 9월 4일까지 10일간으로 가결됨.'}, 'AGENDA_3': {'evidence': {'0': ['다음은 의사일정 제2항 제207회 완주군의회 임시회 회의록 서명의원 선출의 건을 상정합니다.', '회의록 서명의원으로는 최등원 의원님과 박웅배 의원님을 선출하고자 하는데 의원여러분 이의 있습니까?'], '2': ['이의가 없으므로 가결되었음을 선포합니다.']}, 'summary': '제207회 완주군의회 임시회 회의록 서명의원으로 최등원 의원과 박웅배 의원이 선출됨.'}, 'AGENDA_4': {'evidence': {'0': ['다음은 의사일정 제3항 본회의 휴회의 건을 상정합니다.', '상임의원회 의정활동을 위하여 8월 27일부터 9월 3일까지 8일간 본회를 휴회 하고자 합니다.', '의원여러분 이의 있으십니까?'], '2': ['이의가 없으므로 가결되었음을 선포합니다.', '다음 제2차 본회의는 9월 4일 오전 10시에 개의하겠습니다.']}, 'summary': '8월 27일부터 9월 3일까지 8일간 휴회가 가결됨. 제2차 본회의는 9월 4일 오전 10시에 개의.'}}}\n"
          ]
        }
      ]
    },
    {
      "cell_type": "code",
      "source": [
        "len(train)"
      ],
      "metadata": {
        "colab": {
          "base_uri": "https://localhost:8080/"
        },
        "id": "eLRvTm7p51sa",
        "outputId": "a4f510c5-cb83-4091-8f1a-83b4cbea45e8"
      },
      "execution_count": 7,
      "outputs": [
        {
          "output_type": "execute_result",
          "data": {
            "text/plain": [
              "463"
            ]
          },
          "metadata": {},
          "execution_count": 7
        }
      ]
    },
    {
      "cell_type": "code",
      "source": [
        "train[0].keys()"
      ],
      "metadata": {
        "colab": {
          "base_uri": "https://localhost:8080/"
        },
        "id": "fjUonPhE73sD",
        "outputId": "a970ea8f-0c95-490b-ee36-5bca2d244925"
      },
      "execution_count": 8,
      "outputs": [
        {
          "output_type": "execute_result",
          "data": {
            "text/plain": [
              "dict_keys(['id', 'title', 'region', 'num_agenda', 'context', 'label'])"
            ]
          },
          "metadata": {},
          "execution_count": 8
        }
      ]
    },
    {
      "cell_type": "code",
      "source": [
        "idx = 200\n",
        "agenda_idx = 4"
      ],
      "metadata": {
        "id": "eJ4-ZlP79TzO"
      },
      "execution_count": 9,
      "outputs": []
    },
    {
      "cell_type": "code",
      "source": [
        "train[idx]['context'][f'AGENDA_{agenda_idx}']"
      ],
      "metadata": {
        "colab": {
          "base_uri": "https://localhost:8080/"
        },
        "id": "g2c-9mF7Pjht",
        "outputId": "6bb412c0-0f03-4e97-ca52-e450e6c359a2"
      },
      "execution_count": 10,
      "outputs": [
        {
          "output_type": "execute_result",
          "data": {
            "text/plain": [
              "{'0': '다음은 의사일정 제3항 본회의 휴회의 건을 상정합니다. 상임위원회 의정활동을 위하여 1월 29일부터 2월 5일까지 8일간 본회의를 휴회하고자 하는데 의원 여러분 이의 있으십니까?',\n",
              " '1': '(『없습니다』하는 의원 있음)',\n",
              " '2': '이의가 없으므로 가결되었음을 선포합니다.',\n",
              " '3': '이상으로 제186회 임시회 제1차 본회의를 마치겠습니다. 제2차 본회의는 2월 6일 오전 10시에 개의하겠습니다. 이상으로 제1차 본회의 산회를 선포합니다.'}"
            ]
          },
          "metadata": {},
          "execution_count": 10
        }
      ]
    },
    {
      "cell_type": "code",
      "source": [
        "train[idx]['label'][f'AGENDA_{agenda_idx}']['evidence']"
      ],
      "metadata": {
        "colab": {
          "base_uri": "https://localhost:8080/"
        },
        "id": "HiRWhQop8u_N",
        "outputId": "c7a85baf-46b3-42ce-df72-078caf6eeb35"
      },
      "execution_count": 11,
      "outputs": [
        {
          "output_type": "execute_result",
          "data": {
            "text/plain": [
              "{'0': ['상임위원회 의정활동을 위하여 1월 29일부터 2월 5일까지 8일간 본회의를 휴회하고자 하는데 의원 여러분 이의 있으십니까?'],\n",
              " '2': ['이의가 없으므로 가결되었음을 선포합니다.'],\n",
              " '3': ['제2차 본회의는 2월 6일 오전 10시에 개의하겠습니다.']}"
            ]
          },
          "metadata": {},
          "execution_count": 11
        }
      ]
    },
    {
      "cell_type": "code",
      "source": [
        "train[idx]['label'][f'AGENDA_{agenda_idx}']['summary']"
      ],
      "metadata": {
        "colab": {
          "base_uri": "https://localhost:8080/",
          "height": 35
        },
        "id": "0gsgDCUH868Q",
        "outputId": "cfef409b-cffc-46c6-fe79-5c491ed547f2"
      },
      "execution_count": 12,
      "outputs": [
        {
          "output_type": "execute_result",
          "data": {
            "text/plain": [
              "'1월 29일부터 2월 5일까지 8일간 휴회가 가결됨. 제2차 본회의는 2월 6일 오전 10시에 개의.'"
            ],
            "application/vnd.google.colaboratory.intrinsic+json": {
              "type": "string"
            }
          },
          "metadata": {},
          "execution_count": 12
        }
      ]
    },
    {
      "cell_type": "code",
      "source": [
        "contexts = []\n",
        "for item in train:\n",
        "    for agenda in item['context'].values():\n",
        "        context = []\n",
        "        for agen_v in agenda.values():\n",
        "            context.append(agen_v.strip())\n",
        "        context = ' '.join(context)\n",
        "        contexts.append(context)"
      ],
      "metadata": {
        "id": "5mdcsK7jMtbA"
      },
      "execution_count": 13,
      "outputs": []
    },
    {
      "cell_type": "code",
      "source": [
        "summaries = []\n",
        "for item in train:\n",
        "    for agenda in item['label'].values():\n",
        "        summary = agenda['summary']\n",
        "        summaries.append(summary.strip())"
      ],
      "metadata": {
        "id": "83tPigXpSAzf"
      },
      "execution_count": 14,
      "outputs": []
    },
    {
      "cell_type": "code",
      "source": [
        "evidences = []\n",
        "for item in train:\n",
        "    for agenda in item['label'].values():\n",
        "        evidence = []\n",
        "        for agen_v in agenda['evidence'].values():\n",
        "            evidence.append(agen_v)\n",
        "        evidence = [evi_str.strip() for evi_lst in evidence for evi_str in evi_lst]\n",
        "        evidence = ' '.join(evidence)\n",
        "        evidences.append(evidence)"
      ],
      "metadata": {
        "id": "GE5JQYyITALQ"
      },
      "execution_count": 15,
      "outputs": []
    },
    {
      "cell_type": "code",
      "source": [
        "data = {\n",
        "    'context': contexts,\n",
        "    'evidence': evidences,\n",
        "    'summary': summaries,\n",
        "}"
      ],
      "metadata": {
        "id": "Ag1dwxWCZeIj"
      },
      "execution_count": 16,
      "outputs": []
    },
    {
      "cell_type": "code",
      "source": [
        "df = pd.DataFrame(data)"
      ],
      "metadata": {
        "id": "2jMhlpWIZeND"
      },
      "execution_count": 17,
      "outputs": []
    },
    {
      "cell_type": "code",
      "source": [
        "df.info()"
      ],
      "metadata": {
        "colab": {
          "base_uri": "https://localhost:8080/"
        },
        "id": "f8XrzPhCZ2SJ",
        "outputId": "cbf5222b-423f-42ed-934f-d422aa7abaee"
      },
      "execution_count": 18,
      "outputs": [
        {
          "output_type": "stream",
          "name": "stdout",
          "text": [
            "<class 'pandas.core.frame.DataFrame'>\n",
            "RangeIndex: 2994 entries, 0 to 2993\n",
            "Data columns (total 3 columns):\n",
            " #   Column    Non-Null Count  Dtype \n",
            "---  ------    --------------  ----- \n",
            " 0   context   2994 non-null   object\n",
            " 1   evidence  2994 non-null   object\n",
            " 2   summary   2994 non-null   object\n",
            "dtypes: object(3)\n",
            "memory usage: 70.3+ KB\n"
          ]
        }
      ]
    },
    {
      "cell_type": "code",
      "source": [
        "idx = 500"
      ],
      "metadata": {
        "id": "IJEizkgWyu0x"
      },
      "execution_count": 33,
      "outputs": []
    },
    {
      "cell_type": "code",
      "source": [
        "df.iloc[idx]['context']"
      ],
      "metadata": {
        "colab": {
          "base_uri": "https://localhost:8080/",
          "height": 182
        },
        "id": "LCWV6U7Qqb4e",
        "outputId": "8b565663-ea7d-4c97-b3a9-b1219f3ab16a"
      },
      "execution_count": 34,
      "outputs": [
        {
          "output_type": "execute_result",
          "data": {
            "text/plain": [
              "'의사일정 제10항, 음성군 독거노인 공동거주시설 운영 및 지원 조례안을 상정합니다. 주민복지실장께서는 나오셔서 안건에 대하여 제안설명해 주시기 바랍니다. 주민복지실장입니다. 음성군 독거노인 공동거주시설 운영 및 지원 조례 제정 조례안에 대해서 제안설명드리겠습니다. 제안이유는 음성군 관내에 홀로 사시는 독거노인의 안전사고를 미연에 방지하고, 공동생활을 통하여 따뜻하고 편안한 노후생활을 지원하는 한편, 또한 독거생활로 인한 외로움을 해소하여 고독사를 방지할 수 있는 공동거주시설에 대한 운영 및 지원근거를 마련하는 데 있습니다. 주요 내용으로는 안 제3조에 독거노인 공동거주시설의 등록기준, 안 제4조에 독거노인 공동거주시설의 등록신청 및 절차, 안 제5조에 지원 및 정산사항으로 공동거주시설의 시설 개보수 및 보완 사업비, 공동거주시설의 전기료ㆍ전화료 등 공공요금, 냉ㆍ난방비 및 부식비 등 운영비 지원 내용을 규정하였습니다. 또한 안 제7조에는 지원 중단사항을 규정하였습니다. 조례 제정안은 2쪽부터 9쪽을 참고해 주시고, 신ㆍ구조문대비표는 해당이 없습니다. 관계법규는 12쪽을 참고해 주시기 바랍니다. 사전협의 및 승인신청 결과로 성별영향분석평가 결과 해당사항이 없고, 조례ㆍ규칙심의회는 지난 9월 14일 개최하였으며, 원안 가결되었습니다. 비용추계서 및 재원조달 방안은 10쪽부터 11쪽을 참고해 주시기 바랍니다. 입법예고는 7월 23일부터 8월 12일까지 하였으나 제출된 의견은 없습니다. 제안자 의견입니다. 관내에 홀로 사는 독거노인에게 공동생활을 통하여 의식주를 해결함으로써 외로움과 고독사를 미연에 방지하고, 건강한 노후생활을 영위하기 위하여 본 조례를 제정하는 것으로서 원안대로 심의ㆍ의결하여 주시기 바랍니다. 이상입니다. 모든 안건에 대한 전문위원의 검토보고는 배부하여 드린 유인물로 갈음하고자 합니다. 다음은 본 안건에 대하여 질의ㆍ답변 시간을 갖도록 하겠습니다. 질의하실 의원님 계시면 질의하여 주시기 바랍니다. (「없습니다」하는 의원 있음) 질의하실 의원님이 안 계시므로 질의ㆍ답변을 마치도록 하겠습니다. 주민복지실장님 수고하셨습니다. 그러면 바로 의결하고자 합니다. 의사일정 제10항, 음성군 독거노인 공동거주시설 운영 및 지원 조례안을 원안대로 의결하고자 하는데, 의원 여러분! 이의 없으십니까? (「없습니다」하는 의원 있음) 이의가 없으므로 음성군 독거노인 공동거주시설 운영 및 지원 조례안은 원안대로 가결되었음을 선포합니다.'"
            ],
            "application/vnd.google.colaboratory.intrinsic+json": {
              "type": "string"
            }
          },
          "metadata": {},
          "execution_count": 34
        }
      ]
    },
    {
      "cell_type": "code",
      "source": [
        "df.iloc[idx]['evidence']"
      ],
      "metadata": {
        "colab": {
          "base_uri": "https://localhost:8080/",
          "height": 72
        },
        "id": "lVEuzlklqqqy",
        "outputId": "449a74c1-7eda-488f-bab3-3d8c19f12a3d"
      },
      "execution_count": 35,
      "outputs": [
        {
          "output_type": "execute_result",
          "data": {
            "text/plain": [
              "'의사일정 제10항, 음성군 독거노인 공동거주시설 운영 및 지원 조례안을 상정합니다. 제안이유는 음성군 관내에 홀로 사시는 독거노인의 안전사고를 미연에 방지하고, 공동생활을 통하여 따뜻하고 편안한 노후생활을 지원하는 한편, 또한 독거생활로 인한 외로움을 해소하여 고독사를 방지할 수 있는 공동거주시설에 대한 운영 및 지원근거를 마련하는 데 있습니다. 의사일정 제10항, 음성군 독거노인 공동거주시설 운영 및 지원 조례안을 원안대로 의결하고자 하는데, 의원 여러분! 이의 없으십니까? 이의가 없으므로 음성군 독거노인 공동거주시설 운영 및 지원 조례안은 원안대로 가결되었음을 선포합니다.'"
            ],
            "application/vnd.google.colaboratory.intrinsic+json": {
              "type": "string"
            }
          },
          "metadata": {},
          "execution_count": 35
        }
      ]
    },
    {
      "cell_type": "code",
      "source": [
        "df.iloc[idx]['summary']"
      ],
      "metadata": {
        "colab": {
          "base_uri": "https://localhost:8080/",
          "height": 54
        },
        "id": "9QSWxc1MqraS",
        "outputId": "f246905a-2cf9-4075-9d57-65f57c6ff4ad"
      },
      "execution_count": 36,
      "outputs": [
        {
          "output_type": "execute_result",
          "data": {
            "text/plain": [
              "'음성군 독거노인 공동거주시설 운영 및 지원 조례안은 음성군 관내에 거주하는 독거노인의 안전사고와 고독사를 방지할 수 있는 공동거주시설에 대한 운영 및 지원근거를 마련하기 위해 제안됨. 해당 안건은 가결됨.'"
            ],
            "application/vnd.google.colaboratory.intrinsic+json": {
              "type": "string"
            }
          },
          "metadata": {},
          "execution_count": 36
        }
      ]
    },
    {
      "cell_type": "code",
      "source": [
        "df.to_csv('train.csv', index=False)"
      ],
      "metadata": {
        "id": "xC14ApN8_wUV"
      },
      "execution_count": null,
      "outputs": []
    },
    {
      "cell_type": "code",
      "source": [
        "# pd.read_csv('train.csv')"
      ],
      "metadata": {
        "id": "io7h-iG-AKbn"
      },
      "execution_count": null,
      "outputs": []
    },
    {
      "cell_type": "code",
      "source": [
        "'summary uniques', df['summary'].nunique(), 'evidence uniques',df['evidence'].nunique(), 'context uniques', df['context'].nunique()"
      ],
      "metadata": {
        "colab": {
          "base_uri": "https://localhost:8080/"
        },
        "id": "lr_DST8hZeUd",
        "outputId": "006ca5b8-e51d-4ce8-f703-64be8bcee24a"
      },
      "execution_count": null,
      "outputs": [
        {
          "output_type": "execute_result",
          "data": {
            "text/plain": [
              "('summary uniques', 2973, 'evidence uniques', 2992, 'context uniques', 2994)"
            ]
          },
          "metadata": {},
          "execution_count": 18
        }
      ]
    },
    {
      "cell_type": "code",
      "source": [
        "df['summary_dup'] = df.duplicated(['summary'], keep=False)\n",
        "df['evidence_dup'] = df.duplicated(['evidence'], keep=False)"
      ],
      "metadata": {
        "id": "83ygm90ZZeYZ"
      },
      "execution_count": null,
      "outputs": []
    },
    {
      "cell_type": "code",
      "source": [
        "summary_dup = df['summary_dup'] == True\n",
        "evidence_dup = df['evidence_dup'] == True"
      ],
      "metadata": {
        "id": "5tC-G0-SZecQ"
      },
      "execution_count": null,
      "outputs": []
    },
    {
      "cell_type": "code",
      "source": [
        "s_dup_df = df[summary_dup]\n",
        "s_dup_df.sort_values(by='summary')[['context', 'summary']]"
      ],
      "metadata": {
        "colab": {
          "base_uri": "https://localhost:8080/",
          "height": 1000
        },
        "id": "3ho8aISOht2c",
        "outputId": "19fe51db-5c8f-4d61-a7ef-a936b7d406ee"
      },
      "execution_count": null,
      "outputs": [
        {
          "output_type": "execute_result",
          "data": {
            "text/plain": [
              "                                                context  \\\n",
              "1537  의사일정 제5항, 휴회의 건을 상정합니다. 본 건은 상임위원회 및 특별위원회 활동을...   \n",
              "1900  다음은 의사일정 제7항 휴회의 건을 상정합니다. 본 건은 상임위원회 및 특별위원회 ...   \n",
              "1967  다음은 의사일정 제7항 휴회의 건을 상정합니다. 본 건은 상임위원회 및 특별위원회 ...   \n",
              "1502  회의 진행에 앞서 한범덕 시장님으로부터 지난 1월 인사이동에 따른 승진 및 전보된 ...   \n",
              "546   회의 진행에 앞서 한범덕 시장님으로부터 지난 1월 인사이동에 따른 승진 및 전보된 ...   \n",
              "644   의사일정 제1항, 2006회계 세입ㆍ세출 결산 승인의 건, 의사일정 제2항, 200...   \n",
              "22    의사일정 제1항, 2017년도 제1회 세입ㆍ세출 추가경정예산안 승인의 건, 의사일정...   \n",
              "322   의사일정 제3항, 2019년도 수시분 공유재산 관리계획안을 상정합니다. 회계과장께서...   \n",
              "2672  의사일정 제5항, 2019년도 수시분 공유재산 관리계획안을 상정합니다. 회계과장께서...   \n",
              "2197  이범석 부시장님 수고하셨습니다. 끝으로 의사일정 제3항 휴회의 건을 상정합니다. 상...   \n",
              "793   다음은 의사일정 제3항 본회의 휴회의 건을 상정합니다. 상임위원회 등 의정활동을 위...   \n",
              "728   의사일정 제3항, 선진시ㆍ군비교견학결과보고의건을 상정합니다. 지난 제114회 임시회...   \n",
              "2387  의사일정 제8항, 선진시·군비교견학결과보고의건을 상정합니다. 지난 제120회 임시회...   \n",
              "2002  다음은 의사일정 제5항 예산결산특별위원회 구성의 건을 상정합니다. 본 건은 2004...   \n",
              "616   다음은 의사일정 제3항 예산결산특별위원회 구성의 건을 상정합니다. 본 건은 2003...   \n",
              "683   다음은 의사일정 제3항, 예산결산특별위원회 구성의 건을 상정합니다. 본 건은 200...   \n",
              "1898  다음은 의사일정 제5항 예산결산특별위원회 구성의 건을 상정합니다. 본 건은 2008...   \n",
              "2319  의사일정 제3항, 음성군의회 의원 의정활동비 등 지급에 관한 조례 일부개정조례안을 ...   \n",
              "1335  의사일정 제5항, 음성군의회 의원 의정활동비 등 지급에 관한 조례 일부개정조례안을 ...   \n",
              "942   한범덕 시장님 수고하셨습니다. 이어서 의회사무국 간부공무원을 소개하겠습니다. 박은향...   \n",
              "812   시장님 수고하셨습니다. 이어서 지난 7월 9일 및 8월 31일 자로 임용된 의회사무...   \n",
              "583   시장님 수고하셨습니다. 이어서 의회사무국 간부공무원을 소개하겠습니다. 임은규 농업정...   \n",
              "547   한범덕 시장님 수고하셨습니다. 이어서 의회사무국 간부공무원을 소개하겠습니다. 김종오...   \n",
              "395   한범덕 시장님 수고하셨습니다. 이어서 의회사무국 간부공무원을 소개하겠습니다. 대상자...   \n",
              "102   이승훈 시장님 수고하셨습니다. 이어서 의회사무국 간부공무원을 소개하도록 하겠습니다....   \n",
              "1503  한범덕 시장님 수고하셨습니다. 이어서 의회사무국 간부공무원을 소개해 드리겠습니다. ...   \n",
              "2955  이범석 시장권한대행님 수고하셨습니다. 이어서 의회사무국 간부공무원을 소개하도록 하겠...   \n",
              "777   의사일정 제11항, 제112회 제2차정례회 휴회의건은 행정사무감사특별위원회 활동을 ...   \n",
              "2090  의사일정 제8항, 제114회임시회휴회의건은 방금 의결한 선진 시·군 비교견학 활동을...   \n",
              "1784  의사일정 제2항, 주요사업 현지확인 특별위원회 운영 계획안을 상정합니다. 위원님들께...   \n",
              "478   의사일정 제2항, 주요사업 현지확인 특별위원회 운영계획안을 상정합니다. 위원님들께서...   \n",
              "2314  의사일정 제2항, 주요사업 현지확인 특별위원회 운영계획안을 상정합니다. 위원님들께서...   \n",
              "476   의석을 정돈해 주시기 바랍니다. 지금부터 주요사업 현지확인 특별위원회 회의에 대해서...   \n",
              "2312  의석을 정돈하여 주시기 바랍니다. 지금부터 주요사업 현지확인 특별위원회 회의에 대해...   \n",
              "\n",
              "                                                summary  \n",
              "1537                  11월 28일부터 12월 10일까지 13일간 휴회가 가결됨.  \n",
              "1900                  11월 28일부터 12월 10일까지 13일간 휴회가 가결됨.  \n",
              "1967                  11월 28일부터 12월 10일까지 13일간 휴회가 가결됨.  \n",
              "1502                     1월 인사이동에 따른 승진 및 전보된 간부공무원 소개.  \n",
              "546                      1월 인사이동에 따른 승진 및 전보된 간부공무원 소개.  \n",
              "644   2017년도 제1회 세입 세출 추가경정예산안 승인의 건과 2017년도 기금운용계획 ...  \n",
              "22    2017년도 제1회 세입 세출 추가경정예산안 승인의 건과 2017년도 기금운용계획 ...  \n",
              "322                        2019년도 수시분 공유재산 관리계획안 제안 설명.  \n",
              "2672                       2019년도 수시분 공유재산 관리계획안 제안 설명.  \n",
              "2197  4월 17일부터 4월 24일까지 8일간 휴회가 가결됨. 제2차 본회의는 4월 25일...  \n",
              "793   4월 17일부터 4월 24일까지 8일간 휴회가 가결됨. 제2차 본회의는 4월 25일...  \n",
              "728                              선진 시군 비교견학 결과보고서를 채택함.  \n",
              "2387                             선진 시군 비교견학 결과보고서를 채택함.  \n",
              "2002  예산결산 특별위원회는 이희창 의원, 서제일 의원, 박웅배 의원, 김순길 의원, 박종...  \n",
              "616   예산결산 특별위원회는 이희창 의원, 서제일 의원, 박웅배 의원, 김순길 의원, 박종...  \n",
              "683   예산결산특별위원회 위원으로 송지용 의원, 박웅배 의원, 박종관 의원, 홍의환 의원,...  \n",
              "1898  예산결산특별위원회 위원으로 송지용 의원, 박웅배 의원, 박종관 의원, 홍의환 의원,...  \n",
              "2319           음성군의회 의원 의정활동비 등 지급에 관한 조례 일부개정조례안은 가결됨.  \n",
              "1335           음성군의회 의원 의정활동비 등 지급에 관한 조례 일부개정조례안은 가결됨.  \n",
              "942                                     의회사무국 간부공무원 소개.  \n",
              "812                                     의회사무국 간부공무원 소개.  \n",
              "583                                     의회사무국 간부공무원 소개.  \n",
              "547                                     의회사무국 간부공무원 소개.  \n",
              "395                                     의회사무국 간부공무원 소개.  \n",
              "102                                     의회사무국 간부공무원 소개.  \n",
              "1503                                    의회사무국 간부공무원 소개.  \n",
              "2955                                    의회사무국 간부공무원 소개.  \n",
              "777         제112회 제2차 정례회의 휴회는 행정사무감사 특별위원회 의사일정으로 갈음함.  \n",
              "2090        제112회 제2차 정례회의 휴회는 행정사무감사 특별위원회 의사일정으로 갈음함.  \n",
              "1784                        주요사업 현지확인 특별위원회 운영계획안이 가결됨.  \n",
              "478                         주요사업 현지확인 특별위원회 운영계획안이 가결됨.  \n",
              "2314                        주요사업 현지확인 특별위원회 운영계획안이 가결됨.  \n",
              "476                       주요사업 현지확인 특별위원회 제1차 회의 개의 선포.  \n",
              "2312                      주요사업 현지확인 특별위원회 제1차 회의 개의 선포.  "
            ],
            "text/html": [
              "\n",
              "  <div id=\"df-d3a91898-69fb-448f-bdbc-851db19738ef\">\n",
              "    <div class=\"colab-df-container\">\n",
              "      <div>\n",
              "<style scoped>\n",
              "    .dataframe tbody tr th:only-of-type {\n",
              "        vertical-align: middle;\n",
              "    }\n",
              "\n",
              "    .dataframe tbody tr th {\n",
              "        vertical-align: top;\n",
              "    }\n",
              "\n",
              "    .dataframe thead th {\n",
              "        text-align: right;\n",
              "    }\n",
              "</style>\n",
              "<table border=\"1\" class=\"dataframe\">\n",
              "  <thead>\n",
              "    <tr style=\"text-align: right;\">\n",
              "      <th></th>\n",
              "      <th>context</th>\n",
              "      <th>summary</th>\n",
              "    </tr>\n",
              "  </thead>\n",
              "  <tbody>\n",
              "    <tr>\n",
              "      <th>1537</th>\n",
              "      <td>의사일정 제5항, 휴회의 건을 상정합니다. 본 건은 상임위원회 및 특별위원회 활동을...</td>\n",
              "      <td>11월 28일부터 12월 10일까지 13일간 휴회가 가결됨.</td>\n",
              "    </tr>\n",
              "    <tr>\n",
              "      <th>1900</th>\n",
              "      <td>다음은 의사일정 제7항 휴회의 건을 상정합니다. 본 건은 상임위원회 및 특별위원회 ...</td>\n",
              "      <td>11월 28일부터 12월 10일까지 13일간 휴회가 가결됨.</td>\n",
              "    </tr>\n",
              "    <tr>\n",
              "      <th>1967</th>\n",
              "      <td>다음은 의사일정 제7항 휴회의 건을 상정합니다. 본 건은 상임위원회 및 특별위원회 ...</td>\n",
              "      <td>11월 28일부터 12월 10일까지 13일간 휴회가 가결됨.</td>\n",
              "    </tr>\n",
              "    <tr>\n",
              "      <th>1502</th>\n",
              "      <td>회의 진행에 앞서 한범덕 시장님으로부터 지난 1월 인사이동에 따른 승진 및 전보된 ...</td>\n",
              "      <td>1월 인사이동에 따른 승진 및 전보된 간부공무원 소개.</td>\n",
              "    </tr>\n",
              "    <tr>\n",
              "      <th>546</th>\n",
              "      <td>회의 진행에 앞서 한범덕 시장님으로부터 지난 1월 인사이동에 따른 승진 및 전보된 ...</td>\n",
              "      <td>1월 인사이동에 따른 승진 및 전보된 간부공무원 소개.</td>\n",
              "    </tr>\n",
              "    <tr>\n",
              "      <th>644</th>\n",
              "      <td>의사일정 제1항, 2006회계 세입ㆍ세출 결산 승인의 건, 의사일정 제2항, 200...</td>\n",
              "      <td>2017년도 제1회 세입 세출 추가경정예산안 승인의 건과 2017년도 기금운용계획 ...</td>\n",
              "    </tr>\n",
              "    <tr>\n",
              "      <th>22</th>\n",
              "      <td>의사일정 제1항, 2017년도 제1회 세입ㆍ세출 추가경정예산안 승인의 건, 의사일정...</td>\n",
              "      <td>2017년도 제1회 세입 세출 추가경정예산안 승인의 건과 2017년도 기금운용계획 ...</td>\n",
              "    </tr>\n",
              "    <tr>\n",
              "      <th>322</th>\n",
              "      <td>의사일정 제3항, 2019년도 수시분 공유재산 관리계획안을 상정합니다. 회계과장께서...</td>\n",
              "      <td>2019년도 수시분 공유재산 관리계획안 제안 설명.</td>\n",
              "    </tr>\n",
              "    <tr>\n",
              "      <th>2672</th>\n",
              "      <td>의사일정 제5항, 2019년도 수시분 공유재산 관리계획안을 상정합니다. 회계과장께서...</td>\n",
              "      <td>2019년도 수시분 공유재산 관리계획안 제안 설명.</td>\n",
              "    </tr>\n",
              "    <tr>\n",
              "      <th>2197</th>\n",
              "      <td>이범석 부시장님 수고하셨습니다. 끝으로 의사일정 제3항 휴회의 건을 상정합니다. 상...</td>\n",
              "      <td>4월 17일부터 4월 24일까지 8일간 휴회가 가결됨. 제2차 본회의는 4월 25일...</td>\n",
              "    </tr>\n",
              "    <tr>\n",
              "      <th>793</th>\n",
              "      <td>다음은 의사일정 제3항 본회의 휴회의 건을 상정합니다. 상임위원회 등 의정활동을 위...</td>\n",
              "      <td>4월 17일부터 4월 24일까지 8일간 휴회가 가결됨. 제2차 본회의는 4월 25일...</td>\n",
              "    </tr>\n",
              "    <tr>\n",
              "      <th>728</th>\n",
              "      <td>의사일정 제3항, 선진시ㆍ군비교견학결과보고의건을 상정합니다. 지난 제114회 임시회...</td>\n",
              "      <td>선진 시군 비교견학 결과보고서를 채택함.</td>\n",
              "    </tr>\n",
              "    <tr>\n",
              "      <th>2387</th>\n",
              "      <td>의사일정 제8항, 선진시·군비교견학결과보고의건을 상정합니다. 지난 제120회 임시회...</td>\n",
              "      <td>선진 시군 비교견학 결과보고서를 채택함.</td>\n",
              "    </tr>\n",
              "    <tr>\n",
              "      <th>2002</th>\n",
              "      <td>다음은 의사일정 제5항 예산결산특별위원회 구성의 건을 상정합니다. 본 건은 2004...</td>\n",
              "      <td>예산결산 특별위원회는 이희창 의원, 서제일 의원, 박웅배 의원, 김순길 의원, 박종...</td>\n",
              "    </tr>\n",
              "    <tr>\n",
              "      <th>616</th>\n",
              "      <td>다음은 의사일정 제3항 예산결산특별위원회 구성의 건을 상정합니다. 본 건은 2003...</td>\n",
              "      <td>예산결산 특별위원회는 이희창 의원, 서제일 의원, 박웅배 의원, 김순길 의원, 박종...</td>\n",
              "    </tr>\n",
              "    <tr>\n",
              "      <th>683</th>\n",
              "      <td>다음은 의사일정 제3항, 예산결산특별위원회 구성의 건을 상정합니다. 본 건은 200...</td>\n",
              "      <td>예산결산특별위원회 위원으로 송지용 의원, 박웅배 의원, 박종관 의원, 홍의환 의원,...</td>\n",
              "    </tr>\n",
              "    <tr>\n",
              "      <th>1898</th>\n",
              "      <td>다음은 의사일정 제5항 예산결산특별위원회 구성의 건을 상정합니다. 본 건은 2008...</td>\n",
              "      <td>예산결산특별위원회 위원으로 송지용 의원, 박웅배 의원, 박종관 의원, 홍의환 의원,...</td>\n",
              "    </tr>\n",
              "    <tr>\n",
              "      <th>2319</th>\n",
              "      <td>의사일정 제3항, 음성군의회 의원 의정활동비 등 지급에 관한 조례 일부개정조례안을 ...</td>\n",
              "      <td>음성군의회 의원 의정활동비 등 지급에 관한 조례 일부개정조례안은 가결됨.</td>\n",
              "    </tr>\n",
              "    <tr>\n",
              "      <th>1335</th>\n",
              "      <td>의사일정 제5항, 음성군의회 의원 의정활동비 등 지급에 관한 조례 일부개정조례안을 ...</td>\n",
              "      <td>음성군의회 의원 의정활동비 등 지급에 관한 조례 일부개정조례안은 가결됨.</td>\n",
              "    </tr>\n",
              "    <tr>\n",
              "      <th>942</th>\n",
              "      <td>한범덕 시장님 수고하셨습니다. 이어서 의회사무국 간부공무원을 소개하겠습니다. 박은향...</td>\n",
              "      <td>의회사무국 간부공무원 소개.</td>\n",
              "    </tr>\n",
              "    <tr>\n",
              "      <th>812</th>\n",
              "      <td>시장님 수고하셨습니다. 이어서 지난 7월 9일 및 8월 31일 자로 임용된 의회사무...</td>\n",
              "      <td>의회사무국 간부공무원 소개.</td>\n",
              "    </tr>\n",
              "    <tr>\n",
              "      <th>583</th>\n",
              "      <td>시장님 수고하셨습니다. 이어서 의회사무국 간부공무원을 소개하겠습니다. 임은규 농업정...</td>\n",
              "      <td>의회사무국 간부공무원 소개.</td>\n",
              "    </tr>\n",
              "    <tr>\n",
              "      <th>547</th>\n",
              "      <td>한범덕 시장님 수고하셨습니다. 이어서 의회사무국 간부공무원을 소개하겠습니다. 김종오...</td>\n",
              "      <td>의회사무국 간부공무원 소개.</td>\n",
              "    </tr>\n",
              "    <tr>\n",
              "      <th>395</th>\n",
              "      <td>한범덕 시장님 수고하셨습니다. 이어서 의회사무국 간부공무원을 소개하겠습니다. 대상자...</td>\n",
              "      <td>의회사무국 간부공무원 소개.</td>\n",
              "    </tr>\n",
              "    <tr>\n",
              "      <th>102</th>\n",
              "      <td>이승훈 시장님 수고하셨습니다. 이어서 의회사무국 간부공무원을 소개하도록 하겠습니다....</td>\n",
              "      <td>의회사무국 간부공무원 소개.</td>\n",
              "    </tr>\n",
              "    <tr>\n",
              "      <th>1503</th>\n",
              "      <td>한범덕 시장님 수고하셨습니다. 이어서 의회사무국 간부공무원을 소개해 드리겠습니다. ...</td>\n",
              "      <td>의회사무국 간부공무원 소개.</td>\n",
              "    </tr>\n",
              "    <tr>\n",
              "      <th>2955</th>\n",
              "      <td>이범석 시장권한대행님 수고하셨습니다. 이어서 의회사무국 간부공무원을 소개하도록 하겠...</td>\n",
              "      <td>의회사무국 간부공무원 소개.</td>\n",
              "    </tr>\n",
              "    <tr>\n",
              "      <th>777</th>\n",
              "      <td>의사일정 제11항, 제112회 제2차정례회 휴회의건은 행정사무감사특별위원회 활동을 ...</td>\n",
              "      <td>제112회 제2차 정례회의 휴회는 행정사무감사 특별위원회 의사일정으로 갈음함.</td>\n",
              "    </tr>\n",
              "    <tr>\n",
              "      <th>2090</th>\n",
              "      <td>의사일정 제8항, 제114회임시회휴회의건은 방금 의결한 선진 시·군 비교견학 활동을...</td>\n",
              "      <td>제112회 제2차 정례회의 휴회는 행정사무감사 특별위원회 의사일정으로 갈음함.</td>\n",
              "    </tr>\n",
              "    <tr>\n",
              "      <th>1784</th>\n",
              "      <td>의사일정 제2항, 주요사업 현지확인 특별위원회 운영 계획안을 상정합니다. 위원님들께...</td>\n",
              "      <td>주요사업 현지확인 특별위원회 운영계획안이 가결됨.</td>\n",
              "    </tr>\n",
              "    <tr>\n",
              "      <th>478</th>\n",
              "      <td>의사일정 제2항, 주요사업 현지확인 특별위원회 운영계획안을 상정합니다. 위원님들께서...</td>\n",
              "      <td>주요사업 현지확인 특별위원회 운영계획안이 가결됨.</td>\n",
              "    </tr>\n",
              "    <tr>\n",
              "      <th>2314</th>\n",
              "      <td>의사일정 제2항, 주요사업 현지확인 특별위원회 운영계획안을 상정합니다. 위원님들께서...</td>\n",
              "      <td>주요사업 현지확인 특별위원회 운영계획안이 가결됨.</td>\n",
              "    </tr>\n",
              "    <tr>\n",
              "      <th>476</th>\n",
              "      <td>의석을 정돈해 주시기 바랍니다. 지금부터 주요사업 현지확인 특별위원회 회의에 대해서...</td>\n",
              "      <td>주요사업 현지확인 특별위원회 제1차 회의 개의 선포.</td>\n",
              "    </tr>\n",
              "    <tr>\n",
              "      <th>2312</th>\n",
              "      <td>의석을 정돈하여 주시기 바랍니다. 지금부터 주요사업 현지확인 특별위원회 회의에 대해...</td>\n",
              "      <td>주요사업 현지확인 특별위원회 제1차 회의 개의 선포.</td>\n",
              "    </tr>\n",
              "  </tbody>\n",
              "</table>\n",
              "</div>\n",
              "      <button class=\"colab-df-convert\" onclick=\"convertToInteractive('df-d3a91898-69fb-448f-bdbc-851db19738ef')\"\n",
              "              title=\"Convert this dataframe to an interactive table.\"\n",
              "              style=\"display:none;\">\n",
              "        \n",
              "  <svg xmlns=\"http://www.w3.org/2000/svg\" height=\"24px\"viewBox=\"0 0 24 24\"\n",
              "       width=\"24px\">\n",
              "    <path d=\"M0 0h24v24H0V0z\" fill=\"none\"/>\n",
              "    <path d=\"M18.56 5.44l.94 2.06.94-2.06 2.06-.94-2.06-.94-.94-2.06-.94 2.06-2.06.94zm-11 1L8.5 8.5l.94-2.06 2.06-.94-2.06-.94L8.5 2.5l-.94 2.06-2.06.94zm10 10l.94 2.06.94-2.06 2.06-.94-2.06-.94-.94-2.06-.94 2.06-2.06.94z\"/><path d=\"M17.41 7.96l-1.37-1.37c-.4-.4-.92-.59-1.43-.59-.52 0-1.04.2-1.43.59L10.3 9.45l-7.72 7.72c-.78.78-.78 2.05 0 2.83L4 21.41c.39.39.9.59 1.41.59.51 0 1.02-.2 1.41-.59l7.78-7.78 2.81-2.81c.8-.78.8-2.07 0-2.86zM5.41 20L4 18.59l7.72-7.72 1.47 1.35L5.41 20z\"/>\n",
              "  </svg>\n",
              "      </button>\n",
              "      \n",
              "  <style>\n",
              "    .colab-df-container {\n",
              "      display:flex;\n",
              "      flex-wrap:wrap;\n",
              "      gap: 12px;\n",
              "    }\n",
              "\n",
              "    .colab-df-convert {\n",
              "      background-color: #E8F0FE;\n",
              "      border: none;\n",
              "      border-radius: 50%;\n",
              "      cursor: pointer;\n",
              "      display: none;\n",
              "      fill: #1967D2;\n",
              "      height: 32px;\n",
              "      padding: 0 0 0 0;\n",
              "      width: 32px;\n",
              "    }\n",
              "\n",
              "    .colab-df-convert:hover {\n",
              "      background-color: #E2EBFA;\n",
              "      box-shadow: 0px 1px 2px rgba(60, 64, 67, 0.3), 0px 1px 3px 1px rgba(60, 64, 67, 0.15);\n",
              "      fill: #174EA6;\n",
              "    }\n",
              "\n",
              "    [theme=dark] .colab-df-convert {\n",
              "      background-color: #3B4455;\n",
              "      fill: #D2E3FC;\n",
              "    }\n",
              "\n",
              "    [theme=dark] .colab-df-convert:hover {\n",
              "      background-color: #434B5C;\n",
              "      box-shadow: 0px 1px 3px 1px rgba(0, 0, 0, 0.15);\n",
              "      filter: drop-shadow(0px 1px 2px rgba(0, 0, 0, 0.3));\n",
              "      fill: #FFFFFF;\n",
              "    }\n",
              "  </style>\n",
              "\n",
              "      <script>\n",
              "        const buttonEl =\n",
              "          document.querySelector('#df-d3a91898-69fb-448f-bdbc-851db19738ef button.colab-df-convert');\n",
              "        buttonEl.style.display =\n",
              "          google.colab.kernel.accessAllowed ? 'block' : 'none';\n",
              "\n",
              "        async function convertToInteractive(key) {\n",
              "          const element = document.querySelector('#df-d3a91898-69fb-448f-bdbc-851db19738ef');\n",
              "          const dataTable =\n",
              "            await google.colab.kernel.invokeFunction('convertToInteractive',\n",
              "                                                     [key], {});\n",
              "          if (!dataTable) return;\n",
              "\n",
              "          const docLinkHtml = 'Like what you see? Visit the ' +\n",
              "            '<a target=\"_blank\" href=https://colab.research.google.com/notebooks/data_table.ipynb>data table notebook</a>'\n",
              "            + ' to learn more about interactive tables.';\n",
              "          element.innerHTML = '';\n",
              "          dataTable['output_type'] = 'display_data';\n",
              "          await google.colab.output.renderOutput(dataTable, element);\n",
              "          const docLink = document.createElement('div');\n",
              "          docLink.innerHTML = docLinkHtml;\n",
              "          element.appendChild(docLink);\n",
              "        }\n",
              "      </script>\n",
              "    </div>\n",
              "  </div>\n",
              "  "
            ]
          },
          "metadata": {},
          "execution_count": 31
        }
      ]
    },
    {
      "cell_type": "code",
      "source": [
        "df[evidence_dup]"
      ],
      "metadata": {
        "colab": {
          "base_uri": "https://localhost:8080/",
          "height": 288
        },
        "id": "LZT2MXI_iQ8H",
        "outputId": "2fb4f69a-17d5-496a-c52a-c8d29553fc2c"
      },
      "execution_count": null,
      "outputs": [
        {
          "output_type": "execute_result",
          "data": {
            "text/plain": [
              "                                                context  \\\n",
              "395   한범덕 시장님 수고하셨습니다. 이어서 의회사무국 간부공무원을 소개하겠습니다. 대상자...   \n",
              "476   의석을 정돈해 주시기 바랍니다. 지금부터 주요사업 현지확인 특별위원회 회의에 대해서...   \n",
              "583   시장님 수고하셨습니다. 이어서 의회사무국 간부공무원을 소개하겠습니다. 임은규 농업정...   \n",
              "1094  의석을 정돈해 주시기 바랍니다. 지금부터 주요사업 현지확인 특별위원회 회의에 대해서...   \n",
              "\n",
              "                                               evidence  \\\n",
              "395                           이어서 의회사무국 간부공무원을 소개하겠습니다.   \n",
              "476   의석을 정돈해 주시기 바랍니다. 지금부터 주요사업 현지확인 특별위원회 제1차 회의를...   \n",
              "583                           이어서 의회사무국 간부공무원을 소개하겠습니다.   \n",
              "1094  의석을 정돈해 주시기 바랍니다. 지금부터 주요사업 현지확인 특별위원회 제1차 회의를...   \n",
              "\n",
              "                            summary  summary_dup  evidence_dup  \n",
              "395                 의회사무국 간부공무원 소개.         True          True  \n",
              "476   주요사업 현지확인 특별위원회 제1차 회의 개의 선포.         True          True  \n",
              "583                 의회사무국 간부공무원 소개.         True          True  \n",
              "1094  주요사업 현지확인 특별위원회 제1차 회의 개회 선포.        False          True  "
            ],
            "text/html": [
              "\n",
              "  <div id=\"df-b5931ce3-1748-47d1-a060-cc8ad98c5171\">\n",
              "    <div class=\"colab-df-container\">\n",
              "      <div>\n",
              "<style scoped>\n",
              "    .dataframe tbody tr th:only-of-type {\n",
              "        vertical-align: middle;\n",
              "    }\n",
              "\n",
              "    .dataframe tbody tr th {\n",
              "        vertical-align: top;\n",
              "    }\n",
              "\n",
              "    .dataframe thead th {\n",
              "        text-align: right;\n",
              "    }\n",
              "</style>\n",
              "<table border=\"1\" class=\"dataframe\">\n",
              "  <thead>\n",
              "    <tr style=\"text-align: right;\">\n",
              "      <th></th>\n",
              "      <th>context</th>\n",
              "      <th>evidence</th>\n",
              "      <th>summary</th>\n",
              "      <th>summary_dup</th>\n",
              "      <th>evidence_dup</th>\n",
              "    </tr>\n",
              "  </thead>\n",
              "  <tbody>\n",
              "    <tr>\n",
              "      <th>395</th>\n",
              "      <td>한범덕 시장님 수고하셨습니다. 이어서 의회사무국 간부공무원을 소개하겠습니다. 대상자...</td>\n",
              "      <td>이어서 의회사무국 간부공무원을 소개하겠습니다.</td>\n",
              "      <td>의회사무국 간부공무원 소개.</td>\n",
              "      <td>True</td>\n",
              "      <td>True</td>\n",
              "    </tr>\n",
              "    <tr>\n",
              "      <th>476</th>\n",
              "      <td>의석을 정돈해 주시기 바랍니다. 지금부터 주요사업 현지확인 특별위원회 회의에 대해서...</td>\n",
              "      <td>의석을 정돈해 주시기 바랍니다. 지금부터 주요사업 현지확인 특별위원회 제1차 회의를...</td>\n",
              "      <td>주요사업 현지확인 특별위원회 제1차 회의 개의 선포.</td>\n",
              "      <td>True</td>\n",
              "      <td>True</td>\n",
              "    </tr>\n",
              "    <tr>\n",
              "      <th>583</th>\n",
              "      <td>시장님 수고하셨습니다. 이어서 의회사무국 간부공무원을 소개하겠습니다. 임은규 농업정...</td>\n",
              "      <td>이어서 의회사무국 간부공무원을 소개하겠습니다.</td>\n",
              "      <td>의회사무국 간부공무원 소개.</td>\n",
              "      <td>True</td>\n",
              "      <td>True</td>\n",
              "    </tr>\n",
              "    <tr>\n",
              "      <th>1094</th>\n",
              "      <td>의석을 정돈해 주시기 바랍니다. 지금부터 주요사업 현지확인 특별위원회 회의에 대해서...</td>\n",
              "      <td>의석을 정돈해 주시기 바랍니다. 지금부터 주요사업 현지확인 특별위원회 제1차 회의를...</td>\n",
              "      <td>주요사업 현지확인 특별위원회 제1차 회의 개회 선포.</td>\n",
              "      <td>False</td>\n",
              "      <td>True</td>\n",
              "    </tr>\n",
              "  </tbody>\n",
              "</table>\n",
              "</div>\n",
              "      <button class=\"colab-df-convert\" onclick=\"convertToInteractive('df-b5931ce3-1748-47d1-a060-cc8ad98c5171')\"\n",
              "              title=\"Convert this dataframe to an interactive table.\"\n",
              "              style=\"display:none;\">\n",
              "        \n",
              "  <svg xmlns=\"http://www.w3.org/2000/svg\" height=\"24px\"viewBox=\"0 0 24 24\"\n",
              "       width=\"24px\">\n",
              "    <path d=\"M0 0h24v24H0V0z\" fill=\"none\"/>\n",
              "    <path d=\"M18.56 5.44l.94 2.06.94-2.06 2.06-.94-2.06-.94-.94-2.06-.94 2.06-2.06.94zm-11 1L8.5 8.5l.94-2.06 2.06-.94-2.06-.94L8.5 2.5l-.94 2.06-2.06.94zm10 10l.94 2.06.94-2.06 2.06-.94-2.06-.94-.94-2.06-.94 2.06-2.06.94z\"/><path d=\"M17.41 7.96l-1.37-1.37c-.4-.4-.92-.59-1.43-.59-.52 0-1.04.2-1.43.59L10.3 9.45l-7.72 7.72c-.78.78-.78 2.05 0 2.83L4 21.41c.39.39.9.59 1.41.59.51 0 1.02-.2 1.41-.59l7.78-7.78 2.81-2.81c.8-.78.8-2.07 0-2.86zM5.41 20L4 18.59l7.72-7.72 1.47 1.35L5.41 20z\"/>\n",
              "  </svg>\n",
              "      </button>\n",
              "      \n",
              "  <style>\n",
              "    .colab-df-container {\n",
              "      display:flex;\n",
              "      flex-wrap:wrap;\n",
              "      gap: 12px;\n",
              "    }\n",
              "\n",
              "    .colab-df-convert {\n",
              "      background-color: #E8F0FE;\n",
              "      border: none;\n",
              "      border-radius: 50%;\n",
              "      cursor: pointer;\n",
              "      display: none;\n",
              "      fill: #1967D2;\n",
              "      height: 32px;\n",
              "      padding: 0 0 0 0;\n",
              "      width: 32px;\n",
              "    }\n",
              "\n",
              "    .colab-df-convert:hover {\n",
              "      background-color: #E2EBFA;\n",
              "      box-shadow: 0px 1px 2px rgba(60, 64, 67, 0.3), 0px 1px 3px 1px rgba(60, 64, 67, 0.15);\n",
              "      fill: #174EA6;\n",
              "    }\n",
              "\n",
              "    [theme=dark] .colab-df-convert {\n",
              "      background-color: #3B4455;\n",
              "      fill: #D2E3FC;\n",
              "    }\n",
              "\n",
              "    [theme=dark] .colab-df-convert:hover {\n",
              "      background-color: #434B5C;\n",
              "      box-shadow: 0px 1px 3px 1px rgba(0, 0, 0, 0.15);\n",
              "      filter: drop-shadow(0px 1px 2px rgba(0, 0, 0, 0.3));\n",
              "      fill: #FFFFFF;\n",
              "    }\n",
              "  </style>\n",
              "\n",
              "      <script>\n",
              "        const buttonEl =\n",
              "          document.querySelector('#df-b5931ce3-1748-47d1-a060-cc8ad98c5171 button.colab-df-convert');\n",
              "        buttonEl.style.display =\n",
              "          google.colab.kernel.accessAllowed ? 'block' : 'none';\n",
              "\n",
              "        async function convertToInteractive(key) {\n",
              "          const element = document.querySelector('#df-b5931ce3-1748-47d1-a060-cc8ad98c5171');\n",
              "          const dataTable =\n",
              "            await google.colab.kernel.invokeFunction('convertToInteractive',\n",
              "                                                     [key], {});\n",
              "          if (!dataTable) return;\n",
              "\n",
              "          const docLinkHtml = 'Like what you see? Visit the ' +\n",
              "            '<a target=\"_blank\" href=https://colab.research.google.com/notebooks/data_table.ipynb>data table notebook</a>'\n",
              "            + ' to learn more about interactive tables.';\n",
              "          element.innerHTML = '';\n",
              "          dataTable['output_type'] = 'display_data';\n",
              "          await google.colab.output.renderOutput(dataTable, element);\n",
              "          const docLink = document.createElement('div');\n",
              "          docLink.innerHTML = docLinkHtml;\n",
              "          element.appendChild(docLink);\n",
              "        }\n",
              "      </script>\n",
              "    </div>\n",
              "  </div>\n",
              "  "
            ]
          },
          "metadata": {},
          "execution_count": 22
        }
      ]
    },
    {
      "cell_type": "markdown",
      "source": [
        "### Compare"
      ],
      "metadata": {
        "id": "z-w5gJQkG16b"
      }
    },
    {
      "cell_type": "code",
      "source": [
        "df_ = pd.read_csv('/content/train_df.csv')"
      ],
      "metadata": {
        "id": "5-lORs2bHgzu"
      },
      "execution_count": null,
      "outputs": []
    },
    {
      "cell_type": "code",
      "source": [
        "'summary uniques', df_['summary'].nunique(), 'context uniques', df_['context'].nunique()"
      ],
      "metadata": {
        "colab": {
          "base_uri": "https://localhost:8080/"
        },
        "id": "BI71vMg1FbHx",
        "outputId": "1d22675f-f3fa-44f0-c93d-105fcaa1a75e"
      },
      "execution_count": null,
      "outputs": [
        {
          "output_type": "execute_result",
          "data": {
            "text/plain": [
              "('summary uniques', 2973, 'context uniques', 2994)"
            ]
          },
          "metadata": {},
          "execution_count": 26
        }
      ]
    },
    {
      "cell_type": "code",
      "source": [
        "df_['summary_dup'] = df_.duplicated(['summary'], keep=False)\n",
        "summary_dup = df_['summary_dup'] == True\n",
        "s_dup_df = df_[summary_dup]\n",
        "s_dup_df.sort_values(by='summary')[['context', 'summary']]"
      ],
      "metadata": {
        "colab": {
          "base_uri": "https://localhost:8080/",
          "height": 1000
        },
        "id": "HrCxgP-SFvfb",
        "outputId": "8e6ae277-9ac5-477f-b702-63227e7d6739"
      },
      "execution_count": null,
      "outputs": [
        {
          "output_type": "execute_result",
          "data": {
            "text/plain": [
              "                                                context  \\\n",
              "1537  의사일정 제5항, 휴회의 건을 상정합니다. 본 건은 상임위원회 및 특별위원회 활동을...   \n",
              "1900  다음은 의사일정 제7항 휴회의 건을 상정합니다. 본 건은 상임위원회 및 특별위원회 ...   \n",
              "1967  다음은 의사일정 제7항 휴회의 건을 상정합니다. 본 건은 상임위원회 및 특별위원회 ...   \n",
              "1502  회의 진행에 앞서 한범덕 시장님으로부터 지난 1월 인사이동에 따른 승진 및 전보된 ...   \n",
              "546   회의 진행에 앞서 한범덕 시장님으로부터 지난 1월 인사이동에 따른 승진 및 전보된 ...   \n",
              "644   의사일정 제1항, 2006회계 세입ㆍ세출 결산 승인의 건, 의사일정 제2항, 200...   \n",
              "22    의사일정 제1항, 2017년도 제1회 세입ㆍ세출 추가경정예산안 승인의 건, 의사일정...   \n",
              "322   의사일정 제3항, 2019년도 수시분 공유재산 관리계획안을 상정합니다.회계과장께서는...   \n",
              "2672  의사일정 제5항, 2019년도 수시분 공유재산 관리계획안을 상정합니다.회계과장께서는...   \n",
              "2197  이범석 부시장님 수고하셨습니다. 끝으로 의사일정 제3항 휴회의 건을 상정합니다. 상...   \n",
              "793   다음은 의사일정 제3항 본회의 휴회의 건을 상정합니다.상임위원회 등 의정활동을 위하...   \n",
              "728   의사일정 제3항, 선진시ㆍ군비교견학결과보고의건을 상정합니다.지난 제114회 임시회 ...   \n",
              "2387  의사일정 제8항, 선진시·군비교견학결과보고의건을 상정합니다.지난 제120회 임시회 ...   \n",
              "2002  다음은 의사일정 제5항 예산결산특별위원회 구성의 건을 상정합니다.본 건은 2004년...   \n",
              "616   다음은 의사일정 제3항 예산결산특별위원회 구성의 건을 상정합니다. 본 건은 2003...   \n",
              "683   다음은 의사일정 제3항, 예산결산특별위원회 구성의 건을 상정합니다. 본 건은 200...   \n",
              "1898  다음은 의사일정 제5항 예산결산특별위원회 구성의 건을 상정합니다.본 건은 2008년...   \n",
              "2319  의사일정 제3항, 음성군의회 의원 의정활동비 등 지급에 관한 조례 일부개정조례안을 ...   \n",
              "1335  의사일정 제5항, 음성군의회 의원 의정활동비 등 지급에 관한 조례 일부개정조례안을 ...   \n",
              "942   한범덕 시장님 수고하셨습니다. 이어서 의회사무국 간부공무원을 소개하겠습니다. 박은향...   \n",
              "812   시장님 수고하셨습니다. 이어서 지난 7월 9일 및 8월 31일 자로 임용된 의회사무...   \n",
              "583   시장님 수고하셨습니다. 이어서 의회사무국 간부공무원을 소개하겠습니다. 임은규 농업정...   \n",
              "547   한범덕 시장님 수고하셨습니다. 이어서 의회사무국 간부공무원을 소개하겠습니다. 김종오...   \n",
              "395   한범덕 시장님 수고하셨습니다. 이어서 의회사무국 간부공무원을 소개하겠습니다. 대상자...   \n",
              "102   이승훈 시장님 수고하셨습니다. 이어서 의회사무국 간부공무원을 소개하도록 하겠습니다....   \n",
              "1503  한범덕 시장님 수고하셨습니다. 이어서 의회사무국 간부공무원을 소개해 드리겠습니다. ...   \n",
              "2955  이범석 시장권한대행님 수고하셨습니다. 이어서 의회사무국 간부공무원을 소개하도록 하겠...   \n",
              "777   의사일정 제11항, 제112회 제2차정례회 휴회의건은 행정사무감사특별위원회 활동을 ...   \n",
              "2090  의사일정 제8항, 제114회임시회휴회의건은 방금 의결한 선진 시·군 비교견학 활동을...   \n",
              "1784  의사일정 제2항, 주요사업 현지확인 특별위원회 운영 계획안을 상정합니다.위원님들께서...   \n",
              "478   의사일정 제2항, 주요사업 현지확인 특별위원회 운영계획안을 상정합니다.위원님들께서는...   \n",
              "2314  의사일정 제2항, 주요사업 현지확인 특별위원회 운영계획안을 상정합니다.위원님들께서는...   \n",
              "476   의석을 정돈해 주시기 바랍니다.지금부터 주요사업 현지확인 특별위원회 회의에 대해서 ...   \n",
              "2312  의석을 정돈하여 주시기 바랍니다.지금부터 주요사업 현지확인 특별위원회 회의에 대해서...   \n",
              "\n",
              "                                                summary  \n",
              "1537                  11월 28일부터 12월 10일까지 13일간 휴회가 가결됨.  \n",
              "1900                  11월 28일부터 12월 10일까지 13일간 휴회가 가결됨.  \n",
              "1967                  11월 28일부터 12월 10일까지 13일간 휴회가 가결됨.  \n",
              "1502                     1월 인사이동에 따른 승진 및 전보된 간부공무원 소개.  \n",
              "546                      1월 인사이동에 따른 승진 및 전보된 간부공무원 소개.  \n",
              "644   2017년도 제1회 세입 세출 추가경정예산안 승인의 건과 2017년도 기금운용계획 ...  \n",
              "22    2017년도 제1회 세입 세출 추가경정예산안 승인의 건과 2017년도 기금운용계획 ...  \n",
              "322                        2019년도 수시분 공유재산 관리계획안 제안 설명.  \n",
              "2672                       2019년도 수시분 공유재산 관리계획안 제안 설명.  \n",
              "2197  4월 17일부터 4월 24일까지 8일간 휴회가 가결됨. 제2차 본회의는 4월 25일...  \n",
              "793   4월 17일부터 4월 24일까지 8일간 휴회가 가결됨. 제2차 본회의는 4월 25일...  \n",
              "728                              선진 시군 비교견학 결과보고서를 채택함.  \n",
              "2387                             선진 시군 비교견학 결과보고서를 채택함.  \n",
              "2002  예산결산 특별위원회는 이희창 의원, 서제일 의원, 박웅배 의원, 김순길 의원, 박종...  \n",
              "616   예산결산 특별위원회는 이희창 의원, 서제일 의원, 박웅배 의원, 김순길 의원, 박종...  \n",
              "683   예산결산특별위원회 위원으로 송지용 의원, 박웅배 의원, 박종관 의원, 홍의환 의원,...  \n",
              "1898  예산결산특별위원회 위원으로 송지용 의원, 박웅배 의원, 박종관 의원, 홍의환 의원,...  \n",
              "2319           음성군의회 의원 의정활동비 등 지급에 관한 조례 일부개정조례안은 가결됨.  \n",
              "1335           음성군의회 의원 의정활동비 등 지급에 관한 조례 일부개정조례안은 가결됨.  \n",
              "942                                     의회사무국 간부공무원 소개.  \n",
              "812                                     의회사무국 간부공무원 소개.  \n",
              "583                                     의회사무국 간부공무원 소개.  \n",
              "547                                     의회사무국 간부공무원 소개.  \n",
              "395                                     의회사무국 간부공무원 소개.  \n",
              "102                                     의회사무국 간부공무원 소개.  \n",
              "1503                                    의회사무국 간부공무원 소개.  \n",
              "2955                                    의회사무국 간부공무원 소개.  \n",
              "777         제112회 제2차 정례회의 휴회는 행정사무감사 특별위원회 의사일정으로 갈음함.  \n",
              "2090        제112회 제2차 정례회의 휴회는 행정사무감사 특별위원회 의사일정으로 갈음함.  \n",
              "1784                        주요사업 현지확인 특별위원회 운영계획안이 가결됨.  \n",
              "478                         주요사업 현지확인 특별위원회 운영계획안이 가결됨.  \n",
              "2314                        주요사업 현지확인 특별위원회 운영계획안이 가결됨.  \n",
              "476                       주요사업 현지확인 특별위원회 제1차 회의 개의 선포.  \n",
              "2312                      주요사업 현지확인 특별위원회 제1차 회의 개의 선포.  "
            ],
            "text/html": [
              "\n",
              "  <div id=\"df-b1db1fff-cd6f-47e8-b6b1-e1b227765fd2\">\n",
              "    <div class=\"colab-df-container\">\n",
              "      <div>\n",
              "<style scoped>\n",
              "    .dataframe tbody tr th:only-of-type {\n",
              "        vertical-align: middle;\n",
              "    }\n",
              "\n",
              "    .dataframe tbody tr th {\n",
              "        vertical-align: top;\n",
              "    }\n",
              "\n",
              "    .dataframe thead th {\n",
              "        text-align: right;\n",
              "    }\n",
              "</style>\n",
              "<table border=\"1\" class=\"dataframe\">\n",
              "  <thead>\n",
              "    <tr style=\"text-align: right;\">\n",
              "      <th></th>\n",
              "      <th>context</th>\n",
              "      <th>summary</th>\n",
              "    </tr>\n",
              "  </thead>\n",
              "  <tbody>\n",
              "    <tr>\n",
              "      <th>1537</th>\n",
              "      <td>의사일정 제5항, 휴회의 건을 상정합니다. 본 건은 상임위원회 및 특별위원회 활동을...</td>\n",
              "      <td>11월 28일부터 12월 10일까지 13일간 휴회가 가결됨.</td>\n",
              "    </tr>\n",
              "    <tr>\n",
              "      <th>1900</th>\n",
              "      <td>다음은 의사일정 제7항 휴회의 건을 상정합니다. 본 건은 상임위원회 및 특별위원회 ...</td>\n",
              "      <td>11월 28일부터 12월 10일까지 13일간 휴회가 가결됨.</td>\n",
              "    </tr>\n",
              "    <tr>\n",
              "      <th>1967</th>\n",
              "      <td>다음은 의사일정 제7항 휴회의 건을 상정합니다. 본 건은 상임위원회 및 특별위원회 ...</td>\n",
              "      <td>11월 28일부터 12월 10일까지 13일간 휴회가 가결됨.</td>\n",
              "    </tr>\n",
              "    <tr>\n",
              "      <th>1502</th>\n",
              "      <td>회의 진행에 앞서 한범덕 시장님으로부터 지난 1월 인사이동에 따른 승진 및 전보된 ...</td>\n",
              "      <td>1월 인사이동에 따른 승진 및 전보된 간부공무원 소개.</td>\n",
              "    </tr>\n",
              "    <tr>\n",
              "      <th>546</th>\n",
              "      <td>회의 진행에 앞서 한범덕 시장님으로부터 지난 1월 인사이동에 따른 승진 및 전보된 ...</td>\n",
              "      <td>1월 인사이동에 따른 승진 및 전보된 간부공무원 소개.</td>\n",
              "    </tr>\n",
              "    <tr>\n",
              "      <th>644</th>\n",
              "      <td>의사일정 제1항, 2006회계 세입ㆍ세출 결산 승인의 건, 의사일정 제2항, 200...</td>\n",
              "      <td>2017년도 제1회 세입 세출 추가경정예산안 승인의 건과 2017년도 기금운용계획 ...</td>\n",
              "    </tr>\n",
              "    <tr>\n",
              "      <th>22</th>\n",
              "      <td>의사일정 제1항, 2017년도 제1회 세입ㆍ세출 추가경정예산안 승인의 건, 의사일정...</td>\n",
              "      <td>2017년도 제1회 세입 세출 추가경정예산안 승인의 건과 2017년도 기금운용계획 ...</td>\n",
              "    </tr>\n",
              "    <tr>\n",
              "      <th>322</th>\n",
              "      <td>의사일정 제3항, 2019년도 수시분 공유재산 관리계획안을 상정합니다.회계과장께서는...</td>\n",
              "      <td>2019년도 수시분 공유재산 관리계획안 제안 설명.</td>\n",
              "    </tr>\n",
              "    <tr>\n",
              "      <th>2672</th>\n",
              "      <td>의사일정 제5항, 2019년도 수시분 공유재산 관리계획안을 상정합니다.회계과장께서는...</td>\n",
              "      <td>2019년도 수시분 공유재산 관리계획안 제안 설명.</td>\n",
              "    </tr>\n",
              "    <tr>\n",
              "      <th>2197</th>\n",
              "      <td>이범석 부시장님 수고하셨습니다. 끝으로 의사일정 제3항 휴회의 건을 상정합니다. 상...</td>\n",
              "      <td>4월 17일부터 4월 24일까지 8일간 휴회가 가결됨. 제2차 본회의는 4월 25일...</td>\n",
              "    </tr>\n",
              "    <tr>\n",
              "      <th>793</th>\n",
              "      <td>다음은 의사일정 제3항 본회의 휴회의 건을 상정합니다.상임위원회 등 의정활동을 위하...</td>\n",
              "      <td>4월 17일부터 4월 24일까지 8일간 휴회가 가결됨. 제2차 본회의는 4월 25일...</td>\n",
              "    </tr>\n",
              "    <tr>\n",
              "      <th>728</th>\n",
              "      <td>의사일정 제3항, 선진시ㆍ군비교견학결과보고의건을 상정합니다.지난 제114회 임시회 ...</td>\n",
              "      <td>선진 시군 비교견학 결과보고서를 채택함.</td>\n",
              "    </tr>\n",
              "    <tr>\n",
              "      <th>2387</th>\n",
              "      <td>의사일정 제8항, 선진시·군비교견학결과보고의건을 상정합니다.지난 제120회 임시회 ...</td>\n",
              "      <td>선진 시군 비교견학 결과보고서를 채택함.</td>\n",
              "    </tr>\n",
              "    <tr>\n",
              "      <th>2002</th>\n",
              "      <td>다음은 의사일정 제5항 예산결산특별위원회 구성의 건을 상정합니다.본 건은 2004년...</td>\n",
              "      <td>예산결산 특별위원회는 이희창 의원, 서제일 의원, 박웅배 의원, 김순길 의원, 박종...</td>\n",
              "    </tr>\n",
              "    <tr>\n",
              "      <th>616</th>\n",
              "      <td>다음은 의사일정 제3항 예산결산특별위원회 구성의 건을 상정합니다. 본 건은 2003...</td>\n",
              "      <td>예산결산 특별위원회는 이희창 의원, 서제일 의원, 박웅배 의원, 김순길 의원, 박종...</td>\n",
              "    </tr>\n",
              "    <tr>\n",
              "      <th>683</th>\n",
              "      <td>다음은 의사일정 제3항, 예산결산특별위원회 구성의 건을 상정합니다. 본 건은 200...</td>\n",
              "      <td>예산결산특별위원회 위원으로 송지용 의원, 박웅배 의원, 박종관 의원, 홍의환 의원,...</td>\n",
              "    </tr>\n",
              "    <tr>\n",
              "      <th>1898</th>\n",
              "      <td>다음은 의사일정 제5항 예산결산특별위원회 구성의 건을 상정합니다.본 건은 2008년...</td>\n",
              "      <td>예산결산특별위원회 위원으로 송지용 의원, 박웅배 의원, 박종관 의원, 홍의환 의원,...</td>\n",
              "    </tr>\n",
              "    <tr>\n",
              "      <th>2319</th>\n",
              "      <td>의사일정 제3항, 음성군의회 의원 의정활동비 등 지급에 관한 조례 일부개정조례안을 ...</td>\n",
              "      <td>음성군의회 의원 의정활동비 등 지급에 관한 조례 일부개정조례안은 가결됨.</td>\n",
              "    </tr>\n",
              "    <tr>\n",
              "      <th>1335</th>\n",
              "      <td>의사일정 제5항, 음성군의회 의원 의정활동비 등 지급에 관한 조례 일부개정조례안을 ...</td>\n",
              "      <td>음성군의회 의원 의정활동비 등 지급에 관한 조례 일부개정조례안은 가결됨.</td>\n",
              "    </tr>\n",
              "    <tr>\n",
              "      <th>942</th>\n",
              "      <td>한범덕 시장님 수고하셨습니다. 이어서 의회사무국 간부공무원을 소개하겠습니다. 박은향...</td>\n",
              "      <td>의회사무국 간부공무원 소개.</td>\n",
              "    </tr>\n",
              "    <tr>\n",
              "      <th>812</th>\n",
              "      <td>시장님 수고하셨습니다. 이어서 지난 7월 9일 및 8월 31일 자로 임용된 의회사무...</td>\n",
              "      <td>의회사무국 간부공무원 소개.</td>\n",
              "    </tr>\n",
              "    <tr>\n",
              "      <th>583</th>\n",
              "      <td>시장님 수고하셨습니다. 이어서 의회사무국 간부공무원을 소개하겠습니다. 임은규 농업정...</td>\n",
              "      <td>의회사무국 간부공무원 소개.</td>\n",
              "    </tr>\n",
              "    <tr>\n",
              "      <th>547</th>\n",
              "      <td>한범덕 시장님 수고하셨습니다. 이어서 의회사무국 간부공무원을 소개하겠습니다. 김종오...</td>\n",
              "      <td>의회사무국 간부공무원 소개.</td>\n",
              "    </tr>\n",
              "    <tr>\n",
              "      <th>395</th>\n",
              "      <td>한범덕 시장님 수고하셨습니다. 이어서 의회사무국 간부공무원을 소개하겠습니다. 대상자...</td>\n",
              "      <td>의회사무국 간부공무원 소개.</td>\n",
              "    </tr>\n",
              "    <tr>\n",
              "      <th>102</th>\n",
              "      <td>이승훈 시장님 수고하셨습니다. 이어서 의회사무국 간부공무원을 소개하도록 하겠습니다....</td>\n",
              "      <td>의회사무국 간부공무원 소개.</td>\n",
              "    </tr>\n",
              "    <tr>\n",
              "      <th>1503</th>\n",
              "      <td>한범덕 시장님 수고하셨습니다. 이어서 의회사무국 간부공무원을 소개해 드리겠습니다. ...</td>\n",
              "      <td>의회사무국 간부공무원 소개.</td>\n",
              "    </tr>\n",
              "    <tr>\n",
              "      <th>2955</th>\n",
              "      <td>이범석 시장권한대행님 수고하셨습니다. 이어서 의회사무국 간부공무원을 소개하도록 하겠...</td>\n",
              "      <td>의회사무국 간부공무원 소개.</td>\n",
              "    </tr>\n",
              "    <tr>\n",
              "      <th>777</th>\n",
              "      <td>의사일정 제11항, 제112회 제2차정례회 휴회의건은 행정사무감사특별위원회 활동을 ...</td>\n",
              "      <td>제112회 제2차 정례회의 휴회는 행정사무감사 특별위원회 의사일정으로 갈음함.</td>\n",
              "    </tr>\n",
              "    <tr>\n",
              "      <th>2090</th>\n",
              "      <td>의사일정 제8항, 제114회임시회휴회의건은 방금 의결한 선진 시·군 비교견학 활동을...</td>\n",
              "      <td>제112회 제2차 정례회의 휴회는 행정사무감사 특별위원회 의사일정으로 갈음함.</td>\n",
              "    </tr>\n",
              "    <tr>\n",
              "      <th>1784</th>\n",
              "      <td>의사일정 제2항, 주요사업 현지확인 특별위원회 운영 계획안을 상정합니다.위원님들께서...</td>\n",
              "      <td>주요사업 현지확인 특별위원회 운영계획안이 가결됨.</td>\n",
              "    </tr>\n",
              "    <tr>\n",
              "      <th>478</th>\n",
              "      <td>의사일정 제2항, 주요사업 현지확인 특별위원회 운영계획안을 상정합니다.위원님들께서는...</td>\n",
              "      <td>주요사업 현지확인 특별위원회 운영계획안이 가결됨.</td>\n",
              "    </tr>\n",
              "    <tr>\n",
              "      <th>2314</th>\n",
              "      <td>의사일정 제2항, 주요사업 현지확인 특별위원회 운영계획안을 상정합니다.위원님들께서는...</td>\n",
              "      <td>주요사업 현지확인 특별위원회 운영계획안이 가결됨.</td>\n",
              "    </tr>\n",
              "    <tr>\n",
              "      <th>476</th>\n",
              "      <td>의석을 정돈해 주시기 바랍니다.지금부터 주요사업 현지확인 특별위원회 회의에 대해서 ...</td>\n",
              "      <td>주요사업 현지확인 특별위원회 제1차 회의 개의 선포.</td>\n",
              "    </tr>\n",
              "    <tr>\n",
              "      <th>2312</th>\n",
              "      <td>의석을 정돈하여 주시기 바랍니다.지금부터 주요사업 현지확인 특별위원회 회의에 대해서...</td>\n",
              "      <td>주요사업 현지확인 특별위원회 제1차 회의 개의 선포.</td>\n",
              "    </tr>\n",
              "  </tbody>\n",
              "</table>\n",
              "</div>\n",
              "      <button class=\"colab-df-convert\" onclick=\"convertToInteractive('df-b1db1fff-cd6f-47e8-b6b1-e1b227765fd2')\"\n",
              "              title=\"Convert this dataframe to an interactive table.\"\n",
              "              style=\"display:none;\">\n",
              "        \n",
              "  <svg xmlns=\"http://www.w3.org/2000/svg\" height=\"24px\"viewBox=\"0 0 24 24\"\n",
              "       width=\"24px\">\n",
              "    <path d=\"M0 0h24v24H0V0z\" fill=\"none\"/>\n",
              "    <path d=\"M18.56 5.44l.94 2.06.94-2.06 2.06-.94-2.06-.94-.94-2.06-.94 2.06-2.06.94zm-11 1L8.5 8.5l.94-2.06 2.06-.94-2.06-.94L8.5 2.5l-.94 2.06-2.06.94zm10 10l.94 2.06.94-2.06 2.06-.94-2.06-.94-.94-2.06-.94 2.06-2.06.94z\"/><path d=\"M17.41 7.96l-1.37-1.37c-.4-.4-.92-.59-1.43-.59-.52 0-1.04.2-1.43.59L10.3 9.45l-7.72 7.72c-.78.78-.78 2.05 0 2.83L4 21.41c.39.39.9.59 1.41.59.51 0 1.02-.2 1.41-.59l7.78-7.78 2.81-2.81c.8-.78.8-2.07 0-2.86zM5.41 20L4 18.59l7.72-7.72 1.47 1.35L5.41 20z\"/>\n",
              "  </svg>\n",
              "      </button>\n",
              "      \n",
              "  <style>\n",
              "    .colab-df-container {\n",
              "      display:flex;\n",
              "      flex-wrap:wrap;\n",
              "      gap: 12px;\n",
              "    }\n",
              "\n",
              "    .colab-df-convert {\n",
              "      background-color: #E8F0FE;\n",
              "      border: none;\n",
              "      border-radius: 50%;\n",
              "      cursor: pointer;\n",
              "      display: none;\n",
              "      fill: #1967D2;\n",
              "      height: 32px;\n",
              "      padding: 0 0 0 0;\n",
              "      width: 32px;\n",
              "    }\n",
              "\n",
              "    .colab-df-convert:hover {\n",
              "      background-color: #E2EBFA;\n",
              "      box-shadow: 0px 1px 2px rgba(60, 64, 67, 0.3), 0px 1px 3px 1px rgba(60, 64, 67, 0.15);\n",
              "      fill: #174EA6;\n",
              "    }\n",
              "\n",
              "    [theme=dark] .colab-df-convert {\n",
              "      background-color: #3B4455;\n",
              "      fill: #D2E3FC;\n",
              "    }\n",
              "\n",
              "    [theme=dark] .colab-df-convert:hover {\n",
              "      background-color: #434B5C;\n",
              "      box-shadow: 0px 1px 3px 1px rgba(0, 0, 0, 0.15);\n",
              "      filter: drop-shadow(0px 1px 2px rgba(0, 0, 0, 0.3));\n",
              "      fill: #FFFFFF;\n",
              "    }\n",
              "  </style>\n",
              "\n",
              "      <script>\n",
              "        const buttonEl =\n",
              "          document.querySelector('#df-b1db1fff-cd6f-47e8-b6b1-e1b227765fd2 button.colab-df-convert');\n",
              "        buttonEl.style.display =\n",
              "          google.colab.kernel.accessAllowed ? 'block' : 'none';\n",
              "\n",
              "        async function convertToInteractive(key) {\n",
              "          const element = document.querySelector('#df-b1db1fff-cd6f-47e8-b6b1-e1b227765fd2');\n",
              "          const dataTable =\n",
              "            await google.colab.kernel.invokeFunction('convertToInteractive',\n",
              "                                                     [key], {});\n",
              "          if (!dataTable) return;\n",
              "\n",
              "          const docLinkHtml = 'Like what you see? Visit the ' +\n",
              "            '<a target=\"_blank\" href=https://colab.research.google.com/notebooks/data_table.ipynb>data table notebook</a>'\n",
              "            + ' to learn more about interactive tables.';\n",
              "          element.innerHTML = '';\n",
              "          dataTable['output_type'] = 'display_data';\n",
              "          await google.colab.output.renderOutput(dataTable, element);\n",
              "          const docLink = document.createElement('div');\n",
              "          docLink.innerHTML = docLinkHtml;\n",
              "          element.appendChild(docLink);\n",
              "        }\n",
              "      </script>\n",
              "    </div>\n",
              "  </div>\n",
              "  "
            ]
          },
          "metadata": {},
          "execution_count": 30
        }
      ]
    },
    {
      "cell_type": "code",
      "source": [
        ""
      ],
      "metadata": {
        "id": "BD93AQrOGA5w"
      },
      "execution_count": null,
      "outputs": []
    }
  ]
}